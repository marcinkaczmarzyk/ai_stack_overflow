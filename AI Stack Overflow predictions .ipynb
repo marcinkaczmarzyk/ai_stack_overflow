{
 "cells": [
  {
   "cell_type": "code",
   "execution_count": null,
   "id": "9779a1db",
   "metadata": {},
   "outputs": [],
   "source": [
    "!pip install kaggle\n",
    "!pip install opendatasets\n",
    "!pip install pandas"
   ]
  },
  {
   "cell_type": "code",
   "execution_count": null,
   "id": "56ec929f",
   "metadata": {
    "scrolled": true
   },
   "outputs": [],
   "source": [
    "import opendatasets as od\n",
    " \n",
    "od.download(\"https://www.kaggle.com/datasets/stackoverflow/stacksample/\")\n"
   ]
  },
  {
   "cell_type": "code",
   "execution_count": null,
   "id": "0e811476",
   "metadata": {},
   "outputs": [],
   "source": [
    "import pandas as pd\n",
    "from io import StringIO\n",
    "\n",
    "df = pd.read_csv('stacksample/Answers.csv', encoding = \"ISO-8859-1\")\n",
    "\n",
    "df.head()"
   ]
  },
  {
   "cell_type": "code",
   "execution_count": null,
   "id": "5d2c9f5b",
   "metadata": {},
   "outputs": [],
   "source": [
    "df = pd.read_csv('stacksample/Tags.csv', encoding = \"ISO-8859-1\")\n",
    "\n",
    "df.head()"
   ]
  },
  {
   "cell_type": "code",
   "execution_count": null,
   "id": "40105435",
   "metadata": {},
   "outputs": [],
   "source": [
    "import pandas as pd\n",
    "from io import StringIO\n",
    "\n",
    "df = pd.read_csv('stacksample/Questions.csv', encoding = \"ISO-8859-1\")\n",
    "\n",
    "df.head()"
   ]
  },
  {
   "cell_type": "code",
   "execution_count": null,
   "id": "c4eb3726",
   "metadata": {},
   "outputs": [],
   "source": []
  }
 ],
 "metadata": {
  "kernelspec": {
   "display_name": "Python 3 (ipykernel)",
   "language": "python",
   "name": "python3"
  },
  "language_info": {
   "codemirror_mode": {
    "name": "ipython",
    "version": 3
   },
   "file_extension": ".py",
   "mimetype": "text/x-python",
   "name": "python",
   "nbconvert_exporter": "python",
   "pygments_lexer": "ipython3",
   "version": "3.9.0"
  }
 },
 "nbformat": 4,
 "nbformat_minor": 5
}
