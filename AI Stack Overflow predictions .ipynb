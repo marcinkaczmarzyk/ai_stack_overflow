{
 "cells": [
  {
   "cell_type": "code",
   "execution_count": null,
   "id": "9779a1db",
   "metadata": {},
   "outputs": [],
   "source": [
    "!pip install kaggle\n",
    "!pip install opendatasets\n",
    "!pip install pandas"
   ]
  },
  {
   "cell_type": "code",
   "execution_count": null,
   "id": "56ec929f",
   "metadata": {
    "scrolled": true
   },
   "outputs": [],
   "source": [
    "import opendatasets as od\n",
    " \n",
    "od.download(\"https://www.kaggle.com/datasets/stackoverflow/stacksample/\")\n"
   ]
  },
  {
   "cell_type": "code",
   "execution_count": null,
   "id": "9b6b336f",
   "metadata": {},
   "outputs": [],
   "source": [
    "import pandas as pd\n",
    "from io import StringIO"
   ]
  },
  {
   "cell_type": "code",
   "execution_count": null,
   "id": "40105435",
   "metadata": {},
   "outputs": [],
   "source": [
    "# Importing the Questions.csv file\n",
    "\n",
    "questions_df = pd.read_csv('stacksample/Questions.csv', encoding = \"ISO-8859-1\")\n",
    "questions_df.head()"
   ]
  },
  {
   "cell_type": "code",
   "execution_count": null,
   "id": "0e811476",
   "metadata": {},
   "outputs": [],
   "source": [
    "# Importing the Answers.csv file\n",
    "\n",
    "answers_df = pd.read_csv('stacksample/Answers.csv', encoding = \"ISO-8859-1\")\n",
    "answers_df.head()"
   ]
  },
  {
   "cell_type": "code",
   "execution_count": null,
   "id": "5d2c9f5b",
   "metadata": {},
   "outputs": [],
   "source": [
    "# Importing the Tags.csv file\n",
    "\n",
    "tags_df = pd.read_csv('stacksample/Tags.csv', encoding = \"ISO-8859-1\")\n",
    "tags_df.head()"
   ]
  },
  {
   "cell_type": "markdown",
   "id": "2f775b15",
   "metadata": {},
   "source": [
    "## Data processing"
   ]
  },
  {
   "cell_type": "code",
   "execution_count": null,
   "id": "c4eb3726",
   "metadata": {},
   "outputs": [],
   "source": [
    "# Adding number of answers to each question\n",
    "cout_of_answers = answers_df.groupby('ParentId').count() # Counting the number of answers for each question\n",
    "proccessed_df = pd.merge(questions_df, cout_of_answers, left_on='Id', right_on='ParentId') # Merging the questions and answers dataframes\n",
    "\n",
    "proccessed_df.head()"
   ]
  },
  {
   "cell_type": "code",
   "execution_count": null,
   "id": "6d82c521",
   "metadata": {},
   "outputs": [],
   "source": [
    "# Adding tags to each question\n",
    "tags_list_df = tags_df.groupby('Id')['Tag'].agg(list).reset_index(name='TagsList')  # Grouping the tags by question id\n",
    "tags_list_df.head()\n",
    "proccessed_df = pd.merge(proccessed_df, tags_list_df, left_on='Id', right_on='Id') # Merging the questions and tags dataframes\n",
    "# ^ TODO: Fix this merge, it doesn't work\n",
    "# # Adding number of tags to each question\n",
    "# proccessed_df['CountOfTags'] = proccessed_df['Tag'].apply(len)\n",
    "\n",
    "# proccessed_df.head()"
   ]
  }
 ],
 "metadata": {
  "kernelspec": {
   "display_name": "Python 3 (ipykernel)",
   "language": "python",
   "name": "python3"
  },
  "language_info": {
   "codemirror_mode": {
    "name": "ipython",
    "version": 3
   },
   "file_extension": ".py",
   "mimetype": "text/x-python",
   "name": "python",
   "nbconvert_exporter": "python",
   "pygments_lexer": "ipython3",
   "version": "3.12.0"
  }
 },
 "nbformat": 4,
 "nbformat_minor": 5
}
