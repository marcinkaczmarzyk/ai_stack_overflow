{
 "cells": [
  {
   "cell_type": "markdown",
   "id": "5ab41fba",
   "metadata": {},
   "source": [
    "## Setup"
   ]
  },
  {
   "cell_type": "code",
   "execution_count": null,
   "id": "9779a1db",
   "metadata": {},
   "outputs": [],
   "source": [
    "!pip install kaggle\n",
    "!pip install opendatasets\n",
    "!pip install pandas\n",
    "!pip install numpy\n",
    "!pip install matplotlib\n",
    "!pip install nltk\n",
    "!pip install seaborn\n",
    "!pip install scikit-learn"
   ]
  },
  {
   "cell_type": "code",
   "execution_count": null,
   "id": "56ec929f",
   "metadata": {
    "scrolled": true
   },
   "outputs": [],
   "source": [
    "import opendatasets as od\n",
    " \n",
    "od.download(\"https://www.kaggle.com/datasets/stackoverflow/stacksample/\")\n"
   ]
  },
  {
   "cell_type": "code",
   "execution_count": null,
   "id": "9b6b336f",
   "metadata": {},
   "outputs": [],
   "source": [
    "import pandas as pd\n",
    "from io import StringIO"
   ]
  },
  {
   "cell_type": "code",
   "execution_count": null,
   "id": "40105435",
   "metadata": {},
   "outputs": [],
   "source": [
    "# Importing the Questions.csv file\n",
    "\n",
    "questions_df = pd.read_csv('stacksample/Questions.csv', encoding = \"ISO-8859-1\")\n",
    "questions_df.head()"
   ]
  },
  {
   "cell_type": "code",
   "execution_count": null,
   "id": "0e811476",
   "metadata": {},
   "outputs": [],
   "source": [
    "# Importing the Answers.csv file\n",
    "\n",
    "answers_df = pd.read_csv('stacksample/Answers.csv', encoding = \"ISO-8859-1\")\n",
    "answers_df.head()"
   ]
  },
  {
   "cell_type": "code",
   "execution_count": null,
   "id": "5d2c9f5b",
   "metadata": {},
   "outputs": [],
   "source": [
    "# Removing the Tags.csv file beacuse we don't need it\n",
    "import os\n",
    "\n",
    "os.remove(\"stacksample/Tags.csv\")"
   ]
  },
  {
   "cell_type": "markdown",
   "id": "2f775b15",
   "metadata": {},
   "source": [
    "## Data preprocessing"
   ]
  },
  {
   "cell_type": "code",
   "execution_count": null,
   "id": "c4eb3726",
   "metadata": {},
   "outputs": [],
   "source": [
    "## Grouping answers by ParentId and calculating the sum of scores from Answers\n",
    "total_answers_score = answers_df.groupby('ParentId')['Score'].sum().reset_index()\n",
    "total_answers_score.rename(columns={'Score': 'TotalAnswersScore', 'ParentId': 'Id'}, inplace=True)\n",
    "\n",
    "merged_df = questions_df.merge(total_answers_score, on='Id', how='left')\n",
    "\n",
    "merged_df['TotalAnswersScore'] = merged_df['TotalAnswersScore'].fillna(0)\n",
    "\n",
    "merged_df['Closed'] = merged_df['ClosedDate'].notnull()\n",
    "\n",
    "columns_to_remove = ['OwnerUserId', 'CreationDate', 'ClosedDate']\n",
    "merged_df = merged_df.drop(columns=columns_to_remove)\n",
    "\n",
    "# Saving the merged data to a new CSV file\n",
    "prosessed_file_path = './Questions_with_TotalAnswersScore.csv'\n",
    "merged_df.to_csv(prosessed_file_path, index=False)"
   ]
  },
  {
   "cell_type": "markdown",
   "id": "7f544ff4",
   "metadata": {},
   "source": [
    "### Clean Ram"
   ]
  },
  {
   "cell_type": "code",
   "execution_count": null,
   "id": "a2ea3c9b",
   "metadata": {},
   "outputs": [],
   "source": [
    "import gc \n",
    "gc.collect()\n",
    "del questions_df\n",
    "del answers_df\n",
    "del merged_df"
   ]
  },
  {
   "cell_type": "markdown",
   "id": "87f72347",
   "metadata": {},
   "source": [
    "### Read procesed data"
   ]
  },
  {
   "cell_type": "code",
   "execution_count": null,
   "id": "db563905",
   "metadata": {},
   "outputs": [],
   "source": [
    "# Run if you have already downloaded the dataset and processed it\n",
    "\n",
    "import pandas as pd\n",
    "from io import StringIO\n",
    "\n",
    "prosessed_file_path = './Questions_with_TotalAnswersScore.csv'"
   ]
  },
  {
   "cell_type": "markdown",
   "id": "ad385a52",
   "metadata": {},
   "source": [
    "### To speed up development, you can use smaller set for faster results and testing phase"
   ]
  },
  {
   "cell_type": "code",
   "execution_count": null,
   "id": "c500d8e8",
   "metadata": {},
   "outputs": [],
   "source": [
    "import pandas as pd\n",
    "\n",
    "answers_df = pd.read_csv('./Questions_with_TotalAnswersScore.csv', encoding=\"ISO-8859-1\")\n",
    "\n",
    "first_10000_rows = answers_df.head(10000)\n",
    "\n",
    "first_10000_rows.to_csv('./First_10000_Questions_with_TotalAnswersScore.csv', index=False)\n",
    "\n",
    "test_prosessed_file_path = './First_10000_Questions_with_TotalAnswersScore.csv';"
   ]
  },
  {
   "cell_type": "code",
   "execution_count": null,
   "id": "1d7f3f97",
   "metadata": {
    "scrolled": true
   },
   "outputs": [],
   "source": [
    "import pandas as pd\n",
    "from io import StringIO\n",
    "\n",
    "modified_qustions_df = pd.read_csv(test_prosessed_file_path, encoding = \"ISO-8859-1\")\n",
    "modified_qustions_df.head()"
   ]
  },
  {
   "cell_type": "markdown",
   "id": "42b2c315",
   "metadata": {},
   "source": [
    "# Data analysis"
   ]
  },
  {
   "cell_type": "code",
   "execution_count": null,
   "id": "9c6f59bf",
   "metadata": {},
   "outputs": [],
   "source": [
    "import os\n",
    "import matplotlib.pyplot as plt\n",
    "\n",
    "data_analysis_path = './data_analysis/'\n",
    "if not os.path.exists(data_analysis_path):\n",
    "    os.makedirs(data_analysis_path)\n"
   ]
  },
  {
   "cell_type": "markdown",
   "id": "cb7d5703",
   "metadata": {},
   "source": [
    "### Statistics of length of questions title and body"
   ]
  },
  {
   "cell_type": "code",
   "execution_count": null,
   "id": "9bfb569c",
   "metadata": {},
   "outputs": [],
   "source": [
    "# calculating lenght of title and body\n",
    "modified_qustions_df['TitleLength'] = modified_qustions_df['Title'].str.len()\n",
    "modified_qustions_df['BodyLength'] = modified_qustions_df['Body'].str.len()\n",
    "\n",
    "# plotting the distribution of TitleLength and BodyLength\n",
    "plt.figure(figsize=(16, 6))\n",
    "\n",
    "plt.subplot(1, 2, 1)\n",
    "plt.hist(modified_qustions_df['TitleLength'], bins=200)\n",
    "plt.xlabel('Title Length (Number of Characters)')\n",
    "plt.ylabel('Number of Questions')\n",
    "\n",
    "plt.subplot(1, 2, 2)\n",
    "plt.hist(modified_qustions_df['BodyLength'], bins=200)\n",
    "plt.xlabel('Body Length (Number of Characters)')\n",
    "plt.ylabel('Number of Questions')\n",
    "\n",
    "plt.tight_layout()\n",
    "\n",
    "plt.savefig(data_analysis_path + 'title_body_length_distribution.png', dpi=300)\n",
    "plt.show()\n",
    "\n",
    "# printing the mean and median of TitleLength and BodyLength\n",
    "print('Title mean characters count: {:.3f}'.format(modified_qustions_df['TitleLength'].mean()))\n",
    "print('Title median characters count: {}'.format(modified_qustions_df['TitleLength'].median()))\n",
    "print('Title min characters count: {}'.format(modified_qustions_df['TitleLength'].min()))\n",
    "print('Title max characters count: {}'.format(modified_qustions_df['TitleLength'].max()))\n",
    "print('')\n",
    "print('Body mean characters count: {:.3f}'.format(modified_qustions_df['BodyLength'].mean()))\n",
    "print('Body median characters count: {}'.format(modified_qustions_df['BodyLength'].median()))\n",
    "print('Body min characters count: {}'.format(modified_qustions_df['BodyLength'].min()))\n",
    "print('Body max characters count: {}'.format(modified_qustions_df['BodyLength'].max()))"
   ]
  },
  {
   "cell_type": "markdown",
   "id": "31066d92",
   "metadata": {},
   "source": [
    "### Statistics words count of questions title and body"
   ]
  },
  {
   "cell_type": "code",
   "execution_count": null,
   "id": "b20165ac",
   "metadata": {},
   "outputs": [],
   "source": [
    "# preparing stop words\n",
    "import nltk\n",
    "from nltk.corpus import stopwords\n",
    "nltk.download('stopwords')\n",
    "nltk.download('omw-1.4')\n",
    "\n",
    "stop_words = set(stopwords.words('english'))\n",
    "\n",
    "modified_qustions_df['NumberOfTitleWords'] = modified_qustions_df['Title'].apply(lambda x: len(str(x).split(\" \")))\n",
    "modified_qustions_df['NumberOfBodyWords'] = modified_qustions_df['Body'].apply(lambda x: len(str(x).split(\" \")))\n",
    "\n",
    "modified_qustions_df['NumberOfTitleStopWords'] = modified_qustions_df['Title'].apply(lambda x: len([word for word in x.split() if word.lower() in stop_words]))\n",
    "modified_qustions_df['NumberOfBodyStopWords'] = modified_qustions_df['Body'].apply(lambda x: len([word for word in x.split() if word.lower() in stop_words]))\n",
    "\n",
    "# plotting the distribution of NumberOfTitleWords and NumberOfBodyWords and NumberOfTitleStopWords and NumberOfBodyStopWords\n",
    "plt.figure(figsize=(16, 12))\n",
    "\n",
    "plt.subplot(2, 2, 1)\n",
    "plt.hist(modified_qustions_df['NumberOfTitleWords'], bins=200)\n",
    "plt.xlabel('Number of Words in Title')\n",
    "plt.ylabel('Number of Questions')\n",
    "\n",
    "plt.subplot(2, 2, 2)\n",
    "plt.hist(modified_qustions_df['NumberOfBodyWords'], bins=200)\n",
    "plt.xlabel('Number of Words in Body')\n",
    "plt.ylabel('Number of Questions')\n",
    "\n",
    "plt.subplot(2, 2, 3)\n",
    "plt.hist(modified_qustions_df['NumberOfTitleStopWords'], bins=200)\n",
    "plt.xlabel('Number of Stop Words in Title')\n",
    "plt.ylabel('Number of Questions')\n",
    "\n",
    "plt.subplot(2, 2, 4)\n",
    "plt.hist(modified_qustions_df['NumberOfBodyStopWords'], bins=200)\n",
    "plt.xlabel('Number of Stop Words in Body')\n",
    "plt.ylabel('Number of Questions')\n",
    "\n",
    "plt.tight_layout()\n",
    "plt.savefig(data_analysis_path + 'title_body_words_distribution.png', dpi=300)\n",
    "plt.show()\n",
    "\n",
    "# printing the mean and median of NumberOfTitleWords and NumberOfBodyWords and NumberOfTitleStopWords and NumberOfBodyStopWords \n",
    "print('Title mean words count: {:.3f}'.format(modified_qustions_df['NumberOfTitleWords'].mean()))\n",
    "print('Title median words count: {}'.format(modified_qustions_df['NumberOfTitleWords'].median()))\n",
    "print('Title min words count: {}'.format(modified_qustions_df['NumberOfTitleWords'].min()))\n",
    "print('Title max words count: {}'.format(modified_qustions_df['NumberOfTitleWords'].max()))\n",
    "print('')\n",
    "print('Body mean words count: {:.3f}'.format(modified_qustions_df['NumberOfBodyWords'].mean()))\n",
    "print('Body median words count: {}'.format(modified_qustions_df['NumberOfBodyWords'].median()))\n",
    "print('Body min words count: {}'.format(modified_qustions_df['NumberOfBodyWords'].min()))\n",
    "print('Body max words count: {}'.format(modified_qustions_df['NumberOfBodyWords'].max()))\n",
    "print('')\n",
    "print('Title mean stop words count: {:.3f}'.format(modified_qustions_df['NumberOfTitleStopWords'].mean()))\n",
    "print('Title median stop words count: {}'.format(modified_qustions_df['NumberOfTitleStopWords'].median()))\n",
    "print('Title min stop words count: {}'.format(modified_qustions_df['NumberOfTitleStopWords'].min()))\n",
    "print('Title max stop words count: {}'.format(modified_qustions_df['NumberOfTitleStopWords'].max()))\n",
    "print('')\n",
    "print('Body mean stop words count: {:.3f}'.format(modified_qustions_df['NumberOfBodyStopWords'].mean()))\n",
    "print('Body median stop words count: {}'.format(modified_qustions_df['NumberOfBodyStopWords'].median()))\n",
    "print('Body min stop words count: {}'.format(modified_qustions_df['NumberOfBodyStopWords'].min()))\n",
    "print('Body max stop words count: {}'.format(modified_qustions_df['NumberOfBodyStopWords'].max()))"
   ]
  },
  {
   "cell_type": "markdown",
   "id": "c00067d1",
   "metadata": {},
   "source": [
    "### Statistics on the number of special characters in titles and bodies of questions"
   ]
  },
  {
   "cell_type": "code",
   "execution_count": null,
   "id": "88b91353",
   "metadata": {},
   "outputs": [],
   "source": [
    "# calculating the number special characters in Title and Body\n",
    "list_of_special_characters = ['!', '@', '#', '$', '%', '^', '&', '*', '(', ')', '_', '-', '+', '=', '{', '}', '[', ']', '|', '\\\\', ':', ';', '\"', \"'\", '<', '>', ',', '.', '?', '/', '~', '`']\n",
    "modified_qustions_df['NumberOfTitleSpecialCharacters'] = modified_qustions_df['Title'].apply(lambda x: len([char for char in str(x) if char in list_of_special_characters]))\n",
    "modified_qustions_df['NumberOfBodySpecialCharacters'] = modified_qustions_df['Body'].apply(lambda x: len([char for char in str(x) if char in list_of_special_characters]))\n",
    "\n",
    "# calculating the number of numerical characters in Title and Body\n",
    "modified_qustions_df['NumberOfTitleNumericalCharacters'] = modified_qustions_df['Title'].apply(lambda x: len([char for char in str(x) if char.isnumeric()]))\n",
    "modified_qustions_df['NumberOfBodyNumericalCharacters'] = modified_qustions_df['Body'].apply(lambda x: len([char for char in str(x) if char.isnumeric()]))\n",
    "\n",
    "# calculating the number of uppercase characters in Title and Body\n",
    "modified_qustions_df['NumberOfTitleUpperCaseCharacters'] = modified_qustions_df['Title'].apply(lambda x: len([char for char in str(x) if char.isupper()]))\n",
    "modified_qustions_df['NumberOfBodyUpperCaseCharacters'] = modified_qustions_df['Body'].apply(lambda x: len([char for char in str(x) if char.isupper()]))\n",
    "\n",
    "# plotting the distribution\n",
    "plt.figure(figsize=(16, 18))\n",
    "\n",
    "plt.subplot(3, 2, 1)\n",
    "plt.hist(modified_qustions_df['NumberOfTitleSpecialCharacters'], bins=200)\n",
    "plt.xlabel('Number of Special Characters in Title')\n",
    "plt.ylabel('Number of Questions')\n",
    "\n",
    "plt.subplot(3, 2, 2)\n",
    "plt.hist(modified_qustions_df['NumberOfBodySpecialCharacters'], bins=200)\n",
    "plt.xlabel('Number of Special Characters in Body')\n",
    "plt.ylabel('Number of Questions')\n",
    "\n",
    "plt.subplot(3, 2, 3)\n",
    "plt.hist(modified_qustions_df['NumberOfTitleNumericalCharacters'], bins=200)\n",
    "plt.xlabel('Number of Numerical Characters in Title')\n",
    "plt.ylabel('Number of Questions')\n",
    "\n",
    "plt.subplot(3, 2, 4)\n",
    "plt.hist(modified_qustions_df['NumberOfBodyNumericalCharacters'], bins=200)\n",
    "plt.xlabel('Number of Numerical Characters in Body')\n",
    "plt.ylabel('Number of Questions')\n",
    "\n",
    "plt.subplot(3, 2, 5)\n",
    "plt.hist(modified_qustions_df['NumberOfTitleUpperCaseCharacters'], bins=200)\n",
    "plt.xlabel('Number of Uppercase Characters in Title')\n",
    "plt.ylabel('Number of Questions')\n",
    "\n",
    "plt.subplot(3, 2, 6)\n",
    "plt.hist(modified_qustions_df['NumberOfBodyUpperCaseCharacters'], bins=200)\n",
    "plt.xlabel('Number of Uppercase Characters in Body')\n",
    "plt.ylabel('Number of Questions')\n",
    "\n",
    "plt.tight_layout()\n",
    "plt.savefig(data_analysis_path + 'title_body_special_numerical_uppercase_characters_distribution.png', dpi=300)\n",
    "plt.show()\n",
    "\n",
    "# printing the mean and median values\n",
    "print('Title mean special characters count: {:.3f}'.format(modified_qustions_df['NumberOfTitleSpecialCharacters'].mean()))\n",
    "print('Title median special characters count: {}'.format(modified_qustions_df['NumberOfTitleSpecialCharacters'].median()))\n",
    "print('Title min special characters count: {}'.format(modified_qustions_df['NumberOfTitleSpecialCharacters'].min()))\n",
    "print('Title max special characters count: {}'.format(modified_qustions_df['NumberOfTitleSpecialCharacters'].max()))\n",
    "print('')\n",
    "print('Body mean special characters count: {:.3f}'.format(modified_qustions_df['NumberOfBodySpecialCharacters'].mean()))\n",
    "print('Body median special characters count: {}'.format(modified_qustions_df['NumberOfBodySpecialCharacters'].median()))\n",
    "print('Body min special characters count: {}'.format(modified_qustions_df['NumberOfBodySpecialCharacters'].min()))\n",
    "print('Body max special characters count: {}'.format(modified_qustions_df['NumberOfBodySpecialCharacters'].max()))\n",
    "print('')\n",
    "print('Title mean numerical characters count: {:.3f}'.format(modified_qustions_df['NumberOfTitleNumericalCharacters'].mean()))\n",
    "print('Title median numerical characters count: {}'.format(modified_qustions_df['NumberOfTitleNumericalCharacters'].median()))\n",
    "print('Title min numerical characters count: {}'.format(modified_qustions_df['NumberOfTitleNumericalCharacters'].min()))\n",
    "print('Title max numerical characters count: {}'.format(modified_qustions_df['NumberOfTitleNumericalCharacters'].max()))\n",
    "print('')\n",
    "print('Body mean numerical characters count: {:.3f}'.format(modified_qustions_df['NumberOfBodyNumericalCharacters'].mean()))\n",
    "print('Body median numerical characters count: {}'.format(modified_qustions_df['NumberOfBodyNumericalCharacters'].median()))\n",
    "print('Body min numerical characters count: {}'.format(modified_qustions_df['NumberOfBodyNumericalCharacters'].min()))\n",
    "print('Body max numerical characters count: {}'.format(modified_qustions_df['NumberOfBodyNumericalCharacters'].max()))\n",
    "print('')\n",
    "print('Title mean uppercase characters count: {:.3f}'.format(modified_qustions_df['NumberOfTitleUpperCaseCharacters'].mean()))\n",
    "print('Title median uppercase characters count: {}'.format(modified_qustions_df['NumberOfTitleUpperCaseCharacters'].median()))\n",
    "print('Title min uppercase characters count: {}'.format(modified_qustions_df['NumberOfTitleUpperCaseCharacters'].min()))\n",
    "print('Title max uppercase characters count: {}'.format(modified_qustions_df['NumberOfTitleUpperCaseCharacters'].max()))\n",
    "print('')\n",
    "print('Body mean uppercase characters count: {:.3f}'.format(modified_qustions_df['NumberOfBodyUpperCaseCharacters'].mean()))\n",
    "print('Body median uppercase characters count: {}'.format(modified_qustions_df['NumberOfBodyUpperCaseCharacters'].median()))\n",
    "print('Body min uppercase characters count: {}'.format(modified_qustions_df['NumberOfBodyUpperCaseCharacters'].min()))\n",
    "print('Body max uppercase characters count: {}'.format(modified_qustions_df['NumberOfBodyUpperCaseCharacters'].max()))"
   ]
  },
  {
   "cell_type": "markdown",
   "id": "0358378e",
   "metadata": {},
   "source": [
    "### List of most common words in questions title and body"
   ]
  },
  {
   "cell_type": "code",
   "execution_count": null,
   "id": "b278f6b0",
   "metadata": {},
   "outputs": [],
   "source": [
    "MostFreqWordsTitle = pd.Series(' '.join(modified_qustions_df['Title']).split()).value_counts()[:20]\n",
    "MostFreqWordsBody = pd.Series(' '.join(modified_qustions_df['Body']).split()).value_counts()[:20]\n",
    "# its probably better to remove the stop words before calculating the most frequent words\n",
    "\n",
    "print('Most frequent words in Title: \\n', MostFreqWordsTitle)\n",
    "print('')\n",
    "print('Most frequent words in Body: \\n', MostFreqWordsBody)"
   ]
  },
  {
   "cell_type": "markdown",
   "id": "6f7fca77",
   "metadata": {},
   "source": [
    "### List of rare words in questions title and body"
   ]
  },
  {
   "cell_type": "code",
   "execution_count": null,
   "id": "ad7897e8",
   "metadata": {},
   "outputs": [],
   "source": [
    "RareWordsTitle = pd.Series(' '.join(modified_qustions_df['Title']).split()).value_counts()[-20:]\n",
    "RareWordsBody = pd.Series(' '.join(modified_qustions_df['Body']).split()).value_counts()[-20:]\n",
    "# its probably better to remove the stop words before calculating the rare words\n",
    "\n",
    "print('Rare words in Title: \\n', RareWordsTitle)\n",
    "print('')\n",
    "print('Rare words in Body: \\n', RareWordsBody)"
   ]
  },
  {
   "cell_type": "markdown",
   "id": "a03e4bda",
   "metadata": {},
   "source": [
    "### Statistics of score"
   ]
  },
  {
   "cell_type": "code",
   "execution_count": null,
   "id": "37929778",
   "metadata": {},
   "outputs": [],
   "source": [
    "plt.figure(figsize=(9, 6))\n",
    "plt.hist(modified_qustions_df['TotalAnswersScore'], bins=200)\n",
    "plt.xlabel('Total Answers Score')\n",
    "plt.ylabel('Number of Questions')\n",
    "\n",
    "plt.tight_layout()\n",
    "plt.savefig(data_analysis_path + 'total_answers_score_distribution.png', dpi=300)\n",
    "plt.show()\n",
    "\n",
    "# printing the mean, media, max and min values\n",
    "print('Total Answers Score mean: {:.3f}'.format(modified_qustions_df['TotalAnswersScore'].mean()))\n",
    "print('Total Answers Score median: {}'.format(modified_qustions_df['TotalAnswersScore'].median()))\n",
    "print('Total Answers Score max: {}'.format(modified_qustions_df['TotalAnswersScore'].max()))\n",
    "print('Total Answers Score min: {}'.format(modified_qustions_df['TotalAnswersScore'].min()))"
   ]
  },
  {
   "cell_type": "markdown",
   "id": "731b1c70",
   "metadata": {},
   "source": [
    "### Normalize & Convert text with TF-IDF"
   ]
  },
  {
   "cell_type": "code",
   "execution_count": null,
   "id": "b92cc75c",
   "metadata": {},
   "outputs": [],
   "source": [
    "import re\n",
    "from sklearn.feature_extraction.text import TfidfVectorizer\n",
    "import nltk\n",
    "from nltk.corpus import stopwords\n",
    "from nltk.stem import WordNetLemmatizer\n",
    "\n",
    "nltk.download('stopwords')\n",
    "nltk.download('wordnet')\n",
    "stop_words = set(stopwords.words('english'))\n",
    "lemmatizer = WordNetLemmatizer()\n",
    "\n",
    "def normalize_text(text):\n",
    "    text = text.lower()\n",
    "    text = re.sub(r'<.*?>', '', text)\n",
    "    text = re.sub(r'[^a-z\\s]', '', text)\n",
    "    text = ' '.join([lemmatizer.lemmatize(word) for word in text.split() if word not in stop_words])\n",
    "    return text\n",
    "\n",
    "\n",
    "tfidf_title = TfidfVectorizer(max_features=500)\n",
    "title_tfidf = tfidf_title.fit_transform(modified_qustions_df['Title'].astype(str).apply(normalize_text))\n",
    "title_tfidf_df = pd.DataFrame(title_tfidf.toarray(), columns=tfidf_title.get_feature_names_out())\n",
    "\n",
    "tfidf_body = TfidfVectorizer(max_features=500)\n",
    "body_tfidf = tfidf_body.fit_transform(modified_qustions_df['Body'].astype(str).apply(normalize_text))\n",
    "body_tfidf_df = pd.DataFrame(body_tfidf.toarray(), columns=tfidf_body.get_feature_names_out())"
   ]
  },
  {
   "cell_type": "markdown",
   "id": "6f559cd4",
   "metadata": {},
   "source": [
    "### Correlation matrix"
   ]
  },
  {
   "cell_type": "code",
   "execution_count": null,
   "id": "f31a3c18",
   "metadata": {},
   "outputs": [],
   "source": [
    "import seaborn as sns\n",
    "\n",
    "# generate correlation matrix\n",
    "correlation_matrix = modified_qustions_df.corr(numeric_only=True)\n",
    "\n",
    "# plot the heatmap\n",
    "plt.figure(figsize=(12, 12))\n",
    "sns.heatmap(data=correlation_matrix, annot=True, cmap='coolwarm', fmt='.2f')\n",
    "plt.gca().set_aspect('equal', adjustable='box')\n",
    "\n",
    "plt.tight_layout()\n",
    "plt.savefig(data_analysis_path + 'correlation_matrix.png', dpi=300)\n",
    "plt.show()"
   ]
  },
  {
   "cell_type": "markdown",
   "id": "42336e6f",
   "metadata": {},
   "source": [
    "### Prepare sets for training, validation, testing"
   ]
  },
  {
   "cell_type": "code",
   "execution_count": null,
   "id": "56a333c2",
   "metadata": {},
   "outputs": [],
   "source": [
    "modified_qustions_df.head()"
   ]
  },
  {
   "cell_type": "code",
   "execution_count": null,
   "id": "cd6d9795",
   "metadata": {},
   "outputs": [],
   "source": [
    "X_combined = pd.concat([modified_qustions_df.drop(['Title', 'Body', 'Id'], axis=1), title_tfidf_df, body_tfidf_df], axis=1)"
   ]
  },
  {
   "cell_type": "code",
   "execution_count": null,
   "id": "7c874d88",
   "metadata": {},
   "outputs": [],
   "source": [
    "X_combined.head()"
   ]
  },
  {
   "cell_type": "code",
   "execution_count": null,
   "id": "ae95a131",
   "metadata": {},
   "outputs": [],
   "source": [
    "from sklearn.model_selection import train_test_split\n",
    "\n",
    "x = X_combined.drop('Score', axis=1)\n",
    "y = modified_qustions_df['Score']\n",
    "\n",
    "X_train, X_temp, y_train, y_temp = train_test_split(x, y, test_size=0.4, random_state=42)\n",
    "X_val, X_test, y_val, y_test = train_test_split(X_temp, y_temp, test_size=0.5, random_state=42)\n",
    "\n"
   ]
  },
  {
   "cell_type": "markdown",
   "id": "736aba61",
   "metadata": {},
   "source": [
    "### Training AI"
   ]
  },
  {
   "cell_type": "code",
   "execution_count": null,
   "id": "811dff95",
   "metadata": {},
   "outputs": [],
   "source": [
    "import matplotlib.pyplot as plt\n",
    "from sklearn.model_selection import learning_curve\n",
    "from sklearn.ensemble import RandomForestRegressor\n",
    "import numpy as np\n",
    "\n",
    "def plot_learning_curve(estimator, title, X, y, ylim=None, cv=None,\n",
    "                        n_jobs=None, train_sizes=np.linspace(.1, 1.0, 5)):\n",
    "    plt.figure()\n",
    "    plt.title(title)\n",
    "    if ylim is not None:\n",
    "        plt.ylim(*ylim)\n",
    "    plt.xlabel(\"Training examples\")\n",
    "    plt.ylabel(\"Score\")\n",
    "\n",
    "    train_sizes, train_scores, test_scores = learning_curve(\n",
    "        estimator, X, y, cv=cv, n_jobs=n_jobs, train_sizes=train_sizes)\n",
    "\n",
    "    train_scores_mean = np.mean(train_scores, axis=1)\n",
    "    train_scores_std = np.std(train_scores, axis=1)\n",
    "    test_scores_mean = np.mean(test_scores, axis=1)\n",
    "    test_scores_std = np.std(test_scores, axis=1)\n",
    "\n",
    "    plt.grid()\n",
    "\n",
    "    plt.fill_between(train_sizes, train_scores_mean - train_scores_std,\n",
    "                     train_scores_mean + train_scores_std, alpha=0.1, color=\"r\")\n",
    "    plt.fill_between(train_sizes, test_scores_mean - test_scores_std,\n",
    "                     test_scores_mean + test_scores_std, alpha=0.1, color=\"g\")\n",
    "    plt.plot(train_sizes, train_scores_mean, 'o-', color=\"r\",\n",
    "             label=\"Training score\")\n",
    "    plt.plot(train_sizes, test_scores_mean, 'o-', color=\"g\",\n",
    "             label=\"Cross-validation score\")\n",
    "\n",
    "    plt.legend(loc=\"best\")\n",
    "    return plt\n",
    "\n",
    "regressor = RandomForestRegressor(n_estimators=100, random_state=42)\n",
    "\n",
    "plot_learning_curve(regressor, \"Learning Curve (Random Forest)\", x, y, cv=5, n_jobs=4)\n",
    "plt.show()\n"
   ]
  },
  {
   "cell_type": "markdown",
   "id": "f50f2536",
   "metadata": {},
   "source": [
    "# AI Training (New)"
   ]
  },
  {
   "cell_type": "markdown",
   "id": "d057737d",
   "metadata": {},
   "source": [
    "### Prepering data for training"
   ]
  },
  {
   "cell_type": "code",
   "execution_count": 1,
   "id": "5f9e12a9",
   "metadata": {},
   "outputs": [],
   "source": [
    "import os\n",
    "import pandas as pd\n",
    "from sklearn.model_selection import train_test_split\n",
    "\n",
    "# load processed data\n",
    "processd_file_path = './Questions_with_TotalAnswersScore.csv'\n",
    "processed_df = pd.read_csv(processd_file_path, encoding = \"ISO-8859-1\")\n",
    "\n",
    "# split data into training and testing sets (95% for training and 5% for testing)\n",
    "training_df, test_df = train_test_split(processed_df, test_size=0.05, random_state=2137420)\n",
    "print('Training data size: {}'.format(len(training_df)))\n",
    "print('Testing data size: {}'.format(len(test_df)))\n",
    "\n",
    "# create training data directory\n",
    "training_data_directory = './training_data/'\n",
    "if not os.path.exists(training_data_directory):\n",
    "    os.makedirs(training_data_directory)\n",
    "\n",
    "# save training data to CSV files\n",
    "training_data_file = os.path.join(training_data_directory, 'training_data.csv')\n",
    "training_df.to_csv(training_data_file, index=False)\n",
    "\n",
    "# save testing data to CSV files\n",
    "test_data_file = os.path.join(training_data_directory, 'test_data.csv')\n",
    "test_df.to_csv(test_data_file, index=False)\n",
    "\n",
    "# reset kernel after running this cell to free up memory"
   ]
  },
  {
   "cell_type": "code",
   "execution_count": 1,
   "id": "e99e3013",
   "metadata": {},
   "outputs": [],
   "source": [
    "# run this cell if you have already downloaded the dataset and processed it and split it into training and testing sets\n",
    "import os\n",
    "\n",
    "training_data_directory = './training_data/'\n",
    "if not os.path.exists(training_data_directory):\n",
    "    print('Training data directory does not exist')\n",
    "\n",
    "training_data_file = os.path.join(training_data_directory, 'training_data.csv')\n",
    "if not os.path.exists(training_data_file):\n",
    "    print('Training data file does not exist')\n",
    "\n",
    "test_data_file = os.path.join(training_data_directory, 'test_data.csv')\n",
    "if not os.path.exists(test_data_file):\n",
    "    print('Test data file does not exist')"
   ]
  },
  {
   "cell_type": "markdown",
   "id": "eb5a9b6a",
   "metadata": {},
   "source": [
    "### Data processing"
   ]
  },
  {
   "cell_type": "code",
   "execution_count": 2,
   "id": "0c76f9f0",
   "metadata": {},
   "outputs": [
    {
     "name": "stderr",
     "output_type": "stream",
     "text": [
      "[nltk_data] Downloading package stopwords to /home/kijada/nltk_data...\n",
      "[nltk_data]   Package stopwords is already up-to-date!\n",
      "[nltk_data] Downloading package omw-1.4 to /home/kijada/nltk_data...\n",
      "[nltk_data]   Package omw-1.4 is already up-to-date!\n"
     ]
    }
   ],
   "source": [
    "import pandas as pd\n",
    "import nltk\n",
    "from nltk.corpus import stopwords\n",
    "nltk.download('stopwords')\n",
    "nltk.download('omw-1.4')\n",
    "\n",
    "stop_words = set(stopwords.words('english'))\n",
    "\n",
    "def calc_data_statistic(data): \n",
    "    # calculating lenght of title and body\n",
    "    data['TitleLength'] = data['Title'].str.len()\n",
    "    data['BodyLength'] = data['Body'].str.len()\n",
    "\n",
    "    # calculating number of words in Title and Body\n",
    "    data['NumberOfTitleWords'] = data['Title'].apply(lambda x: len(str(x).split(\" \")))\n",
    "    data['NumberOfBodyWords'] = data['Body'].apply(lambda x: len(str(x).split(\" \")))\n",
    "\n",
    "    # calculating the number of stop words in Title and Body\n",
    "    data['NumberOfTitleStopWords'] = data['Title'].apply(lambda x: len([word for word in x.split() if word.lower() in stop_words]))\n",
    "    data['NumberOfBodyStopWords'] = data['Body'].apply(lambda x: len([word for word in x.split() if word.lower() in stop_words]))\n",
    "\n",
    "    # calculating the number special characters in Title and Body\n",
    "    list_of_special_characters = ['!', '@', '#', '$', '%', '^', '&', '*', '(', ')', '_', '-', '+', '=', '{', '}', '[', ']', '|', '\\\\', ':', ';', '\"', \"'\", '<', '>', ',', '.', '?', '/', '~', '`']\n",
    "    data['NumberOfTitleSpecialCharacters'] = data['Title'].apply(lambda x: len([char for char in str(x) if char in list_of_special_characters]))\n",
    "    data['NumberOfBodySpecialCharacters'] = data['Body'].apply(lambda x: len([char for char in str(x) if char in list_of_special_characters]))\n",
    "\n",
    "    # calculating the number of numerical characters in Title and Body\n",
    "    data['NumberOfTitleNumericalCharacters'] = data['Title'].apply(lambda x: len([char for char in str(x) if char.isnumeric()]))\n",
    "    data['NumberOfBodyNumericalCharacters'] = data['Body'].apply(lambda x: len([char for char in str(x) if char.isnumeric()]))\n",
    "\n",
    "    # calculating the number of uppercase characters in Title and Body\n",
    "    data['NumberOfTitleUpperCaseCharacters'] = data['Title'].apply(lambda x: len([char for char in str(x) if char.isupper()]))\n",
    "    data['NumberOfBodyUpperCaseCharacters'] = data['Body'].apply(lambda x: len([char for char in str(x) if char.isupper()]))\n",
    "\n",
    "    return data"
   ]
  },
  {
   "cell_type": "code",
   "execution_count": 24,
   "id": "3e299d03",
   "metadata": {},
   "outputs": [
    {
     "name": "stderr",
     "output_type": "stream",
     "text": [
      "[nltk_data] Downloading package stopwords to /home/kijada/nltk_data...\n",
      "[nltk_data]   Package stopwords is already up-to-date!\n",
      "[nltk_data] Downloading package wordnet to /home/kijada/nltk_data...\n",
      "[nltk_data]   Package wordnet is already up-to-date!\n"
     ]
    }
   ],
   "source": [
    "import re\n",
    "import pandas as pd\n",
    "import nltk\n",
    "from nltk.corpus import stopwords\n",
    "from nltk.stem import WordNetLemmatizer\n",
    "from sklearn.feature_extraction.text import TfidfVectorizer\n",
    "\n",
    "nltk.download('stopwords')\n",
    "nltk.download('wordnet')\n",
    "stop_words = set(stopwords.words('english'))\n",
    "lemmatizer = WordNetLemmatizer()\n",
    "\n",
    "max_features_count = 1000\n",
    "title_features_list = []\n",
    "body_features_list = []\n",
    "\n",
    "def normalize_text(text):\n",
    "    text = text.lower()\n",
    "    text = re.sub(r'<.*?>', '', text)\n",
    "    text = re.sub(r'[^a-z\\s]', '', text)\n",
    "    text = ' '.join([lemmatizer.lemmatize(word) for word in text.split() if word not in stop_words])\n",
    "    return text\n",
    "\n",
    "    "
   ]
  },
  {
   "cell_type": "code",
   "execution_count": 25,
   "id": "c400143c",
   "metadata": {},
   "outputs": [],
   "source": [
    "def normalize_data_and_convert_to_tfidf_and_save_features_list(data):\n",
    "    global title_features_list\n",
    "    global body_features_list\n",
    "\n",
    "    tfidf_title = TfidfVectorizer(max_features=max_features_count)\n",
    "    title_tfidf = tfidf_title.fit_transform(data['Title'].astype(str).apply(normalize_text))\n",
    "    title_tfidf_df = pd.DataFrame(title_tfidf.toarray(), columns=tfidf_title.get_feature_names_out())\n",
    "\n",
    "    tfidf_body = TfidfVectorizer(max_features=max_features_count)\n",
    "    body_tfidf = tfidf_body.fit_transform(data['Body'].astype(str).apply(normalize_text))\n",
    "    body_tfidf_df = pd.DataFrame(body_tfidf.toarray(), columns=tfidf_body.get_feature_names_out())\n",
    "\n",
    "    title_features_list = title_tfidf_df.columns.tolist()\n",
    "    body_features_list = body_tfidf_df.columns.tolist()\n",
    "\n",
    "    combined_data = pd.concat([data.drop(['Title', 'Body', 'Id'], axis=1), title_tfidf_df, body_tfidf_df], axis=1)\n",
    "    return combined_data"
   ]
  },
  {
   "cell_type": "code",
   "execution_count": 26,
   "id": "2b06c2f6",
   "metadata": {},
   "outputs": [],
   "source": [
    "def normalize_data_and_convert_to_tfidf(data):\n",
    "    global title_features_list\n",
    "    global body_features_list\n",
    "\n",
    "    if len(title_features_list) == 0 or len(body_features_list) == 0:\n",
    "        print('Title and Body features list are empty')\n",
    "        exit()\n",
    "    \n",
    "    tfidf_title = TfidfVectorizer(max_features=max_features_count)\n",
    "    title_tfidf = tfidf_title.fit_transform(data['Title'].astype(str).apply(normalize_text))\n",
    "    title_tfidf_df = pd.DataFrame(title_tfidf.toarray(), columns=title_features_list)\n",
    "\n",
    "    tfidf_body = TfidfVectorizer(max_features=max_features_count)\n",
    "    body_tfidf = tfidf_body.fit_transform(data['Body'].astype(str).apply(normalize_text))\n",
    "    body_tfidf_df = pd.DataFrame(body_tfidf.toarray(), columns=body_features_list)\n",
    "\n",
    "    combined_data = pd.concat([data.drop(['Title', 'Body', 'Id'], axis=1), title_tfidf_df, body_tfidf_df], axis=1)\n",
    "    return combined_data"
   ]
  },
  {
   "cell_type": "code",
   "execution_count": 27,
   "id": "ed3eb906",
   "metadata": {},
   "outputs": [],
   "source": [
    "def prepare_data_for_training(data_set, test_data = False):\n",
    "    data_set = calc_data_statistic(data_set)\n",
    "    \n",
    "    if test_data == True:\n",
    "        data_set = normalize_data_and_convert_to_tfidf_and_save_features_list(data_set) # save features list for later use\n",
    "    else:\n",
    "        data_set = normalize_data_and_convert_to_tfidf(data_set)\n",
    "\n",
    "    return data_set"
   ]
  },
  {
   "cell_type": "markdown",
   "id": "eefb88a9",
   "metadata": {},
   "source": [
    "### Main training function"
   ]
  },
  {
   "cell_type": "code",
   "execution_count": 5,
   "id": "11f36e6c",
   "metadata": {},
   "outputs": [],
   "source": [
    "from sklearn.metrics import accuracy_score, precision_score, recall_score, f1_score\n",
    "\n",
    "def training_iteration(trained_model, x_train, y_train, x_test, y_test):\n",
    "    # Training function\n",
    "    trained_model.fit(x_train, y_train)\n",
    "\n",
    "    # Predicting the test set results\n",
    "    predictions_result = trained_model.predict(x_test)\n",
    "    predictions_result = predictions_result.astype(int)\n",
    "    y_test = y_test.astype(int)\n",
    "    \n",
    "    # Calculating the accuracy, precision, recall and f1 score\n",
    "    accuracy = accuracy_score(y_test, predictions_result)\n",
    "    precision = precision_score(y_test, predictions_result, average='macro', zero_division=1)\n",
    "    recall = recall_score(y_test, predictions_result, average='macro', zero_division=1)\n",
    "    fscore = f1_score(y_test, predictions_result, average='macro', zero_division=1)\n",
    "\n",
    "    return trained_model, (accuracy, precision, recall, fscore)"
   ]
  },
  {
   "cell_type": "markdown",
   "id": "45c1825a",
   "metadata": {},
   "source": [
    "### Saving model to file for backup and later use"
   ]
  },
  {
   "cell_type": "code",
   "execution_count": 57,
   "id": "767b65c2",
   "metadata": {},
   "outputs": [],
   "source": [
    "# Cleaning up models folder\n",
    "import shutil\n",
    "model_path = \"./models/\"\n",
    "shutil.rmtree(model_path)"
   ]
  },
  {
   "cell_type": "code",
   "execution_count": 58,
   "id": "e598a6a1",
   "metadata": {},
   "outputs": [],
   "source": [
    "import os\n",
    "import joblib\n",
    "from datetime import datetime\n",
    "\n",
    "model_path = \"./models/\"\n",
    "if not os.path.exists(model_path):\n",
    "    os.makedirs(model_path)\n",
    "\n",
    "def save_model(classifier, id):\n",
    "    timestam_str = datetime.now().strftime(\"%Y%m%d_%H%M%S\")\n",
    "    model_name = \"model_{}_{}.joblib\".format(id, timestam_str)\n",
    "    model_target_path = os.path.join(model_path, model_name)\n",
    "\n",
    "    joblib.dump(classifier, model_target_path)"
   ]
  },
  {
   "cell_type": "markdown",
   "id": "eefa6806",
   "metadata": {},
   "source": [
    "### Function to monitor training time"
   ]
  },
  {
   "cell_type": "code",
   "execution_count": 10,
   "id": "6959d445",
   "metadata": {},
   "outputs": [],
   "source": [
    "# function to calculate the time difference to show how long it took to train the model\n",
    "from datetime import datetime\n",
    "\n",
    "def get_time_diff(start_time):\n",
    "    time_delta = (datetime.now() - start_time).total_seconds()\n",
    "    hours, remainder = divmod(time_delta, 3600)\n",
    "    minutes, seconds = divmod(remainder, 60)\n",
    "    time_diff_str = \"{:0>2}:{:0>2}:{:05.2f}\".format(int(hours), int(minutes), seconds)\n",
    "    return time_diff_str"
   ]
  },
  {
   "cell_type": "markdown",
   "id": "3e7f359c",
   "metadata": {},
   "source": [
    "### Model preparation"
   ]
  },
  {
   "cell_type": "code",
   "execution_count": 11,
   "id": "b1e364fd",
   "metadata": {},
   "outputs": [],
   "source": [
    "from sklearn.linear_model import SGDClassifier\n",
    "\n",
    "model = SGDClassifier(random_state=420)"
   ]
  },
  {
   "cell_type": "markdown",
   "id": "2aed7d28",
   "metadata": {},
   "source": [
    "### Load test data"
   ]
  },
  {
   "cell_type": "code",
   "execution_count": 28,
   "id": "cc4e943a",
   "metadata": {},
   "outputs": [
    {
     "name": "stdout",
     "output_type": "stream",
     "text": [
      "Loading test data... \n",
      "\tLoading test data from CSV file... \n",
      "\tPreparing test data for training... \n",
      "\tSplitting test data into x and y sets... \n",
      "\n",
      "Done!\n"
     ]
    },
    {
     "data": {
      "text/plain": [
       "7"
      ]
     },
     "execution_count": 28,
     "metadata": {},
     "output_type": "execute_result"
    }
   ],
   "source": [
    "import sys\n",
    "import pandas as pd\n",
    "\n",
    "sys.stdout.write(\"Loading test data... \\n\")\n",
    "\n",
    "# Loading test data from CSV file\n",
    "sys.stdout.write(\"\\tLoading test data from CSV file... \\n\")\n",
    "test_df = pd.read_csv(test_data_file, encoding = \"ISO-8859-1\")\n",
    "\n",
    "# Preparing test data for training\n",
    "sys.stdout.write(\"\\tPreparing test data for training... \\n\")\n",
    "processed_test_df = prepare_data_for_training(test_df, test_data=True)\n",
    "\n",
    "# Splitting test data into x and y sets\n",
    "sys.stdout.write(\"\\tSplitting test data into x and y sets... \\n\")\n",
    "x_test_data = processed_test_df.drop('Score', axis=1)\n",
    "y_test_data = processed_test_df['Score']\n",
    "\n",
    "sys.stdout.write(\"\\nDone!\\n\")\n"
   ]
  },
  {
   "cell_type": "code",
   "execution_count": 29,
   "id": "26610161",
   "metadata": {},
   "outputs": [
    {
     "data": {
      "text/html": [
       "<div>\n",
       "<style scoped>\n",
       "    .dataframe tbody tr th:only-of-type {\n",
       "        vertical-align: middle;\n",
       "    }\n",
       "\n",
       "    .dataframe tbody tr th {\n",
       "        vertical-align: top;\n",
       "    }\n",
       "\n",
       "    .dataframe thead th {\n",
       "        text-align: right;\n",
       "    }\n",
       "</style>\n",
       "<table border=\"1\" class=\"dataframe\">\n",
       "  <thead>\n",
       "    <tr style=\"text-align: right;\">\n",
       "      <th></th>\n",
       "      <th>Score</th>\n",
       "      <th>TotalAnswersScore</th>\n",
       "      <th>Closed</th>\n",
       "      <th>TitleLength</th>\n",
       "      <th>BodyLength</th>\n",
       "      <th>NumberOfTitleWords</th>\n",
       "      <th>NumberOfBodyWords</th>\n",
       "      <th>NumberOfTitleStopWords</th>\n",
       "      <th>NumberOfBodyStopWords</th>\n",
       "      <th>NumberOfTitleSpecialCharacters</th>\n",
       "      <th>...</th>\n",
       "      <th>would</th>\n",
       "      <th>write</th>\n",
       "      <th>writing</th>\n",
       "      <th>written</th>\n",
       "      <th>wrong</th>\n",
       "      <th>wrote</th>\n",
       "      <th>xml</th>\n",
       "      <th>year</th>\n",
       "      <th>yes</th>\n",
       "      <th>yet</th>\n",
       "    </tr>\n",
       "  </thead>\n",
       "  <tbody>\n",
       "    <tr>\n",
       "      <th>0</th>\n",
       "      <td>0</td>\n",
       "      <td>1.0</td>\n",
       "      <td>False</td>\n",
       "      <td>25</td>\n",
       "      <td>2771</td>\n",
       "      <td>6</td>\n",
       "      <td>1017</td>\n",
       "      <td>3</td>\n",
       "      <td>32</td>\n",
       "      <td>1</td>\n",
       "      <td>...</td>\n",
       "      <td>0.000000</td>\n",
       "      <td>0.0</td>\n",
       "      <td>0.0</td>\n",
       "      <td>0.0</td>\n",
       "      <td>0.0</td>\n",
       "      <td>0.0</td>\n",
       "      <td>0.0</td>\n",
       "      <td>0.0</td>\n",
       "      <td>0.0</td>\n",
       "      <td>0.0</td>\n",
       "    </tr>\n",
       "    <tr>\n",
       "      <th>1</th>\n",
       "      <td>1</td>\n",
       "      <td>0.0</td>\n",
       "      <td>False</td>\n",
       "      <td>96</td>\n",
       "      <td>474</td>\n",
       "      <td>15</td>\n",
       "      <td>76</td>\n",
       "      <td>6</td>\n",
       "      <td>37</td>\n",
       "      <td>2</td>\n",
       "      <td>...</td>\n",
       "      <td>0.000000</td>\n",
       "      <td>0.0</td>\n",
       "      <td>0.0</td>\n",
       "      <td>0.0</td>\n",
       "      <td>0.0</td>\n",
       "      <td>0.0</td>\n",
       "      <td>0.0</td>\n",
       "      <td>0.0</td>\n",
       "      <td>0.0</td>\n",
       "      <td>0.0</td>\n",
       "    </tr>\n",
       "    <tr>\n",
       "      <th>2</th>\n",
       "      <td>2</td>\n",
       "      <td>3.0</td>\n",
       "      <td>True</td>\n",
       "      <td>72</td>\n",
       "      <td>585</td>\n",
       "      <td>12</td>\n",
       "      <td>100</td>\n",
       "      <td>3</td>\n",
       "      <td>42</td>\n",
       "      <td>1</td>\n",
       "      <td>...</td>\n",
       "      <td>0.175528</td>\n",
       "      <td>0.0</td>\n",
       "      <td>0.0</td>\n",
       "      <td>0.0</td>\n",
       "      <td>0.0</td>\n",
       "      <td>0.0</td>\n",
       "      <td>0.0</td>\n",
       "      <td>0.0</td>\n",
       "      <td>0.0</td>\n",
       "      <td>0.0</td>\n",
       "    </tr>\n",
       "    <tr>\n",
       "      <th>3</th>\n",
       "      <td>4</td>\n",
       "      <td>0.0</td>\n",
       "      <td>False</td>\n",
       "      <td>32</td>\n",
       "      <td>905</td>\n",
       "      <td>4</td>\n",
       "      <td>154</td>\n",
       "      <td>0</td>\n",
       "      <td>64</td>\n",
       "      <td>0</td>\n",
       "      <td>...</td>\n",
       "      <td>0.000000</td>\n",
       "      <td>0.0</td>\n",
       "      <td>0.0</td>\n",
       "      <td>0.0</td>\n",
       "      <td>0.0</td>\n",
       "      <td>0.0</td>\n",
       "      <td>0.0</td>\n",
       "      <td>0.0</td>\n",
       "      <td>0.0</td>\n",
       "      <td>0.0</td>\n",
       "    </tr>\n",
       "    <tr>\n",
       "      <th>4</th>\n",
       "      <td>0</td>\n",
       "      <td>0.0</td>\n",
       "      <td>False</td>\n",
       "      <td>48</td>\n",
       "      <td>1444</td>\n",
       "      <td>7</td>\n",
       "      <td>416</td>\n",
       "      <td>1</td>\n",
       "      <td>60</td>\n",
       "      <td>0</td>\n",
       "      <td>...</td>\n",
       "      <td>0.000000</td>\n",
       "      <td>0.0</td>\n",
       "      <td>0.0</td>\n",
       "      <td>0.0</td>\n",
       "      <td>0.0</td>\n",
       "      <td>0.0</td>\n",
       "      <td>0.0</td>\n",
       "      <td>0.0</td>\n",
       "      <td>0.0</td>\n",
       "      <td>0.0</td>\n",
       "    </tr>\n",
       "  </tbody>\n",
       "</table>\n",
       "<p>5 rows × 2015 columns</p>\n",
       "</div>"
      ],
      "text/plain": [
       "   Score  TotalAnswersScore  Closed  TitleLength  BodyLength  \\\n",
       "0      0                1.0   False           25        2771   \n",
       "1      1                0.0   False           96         474   \n",
       "2      2                3.0    True           72         585   \n",
       "3      4                0.0   False           32         905   \n",
       "4      0                0.0   False           48        1444   \n",
       "\n",
       "   NumberOfTitleWords  NumberOfBodyWords  NumberOfTitleStopWords  \\\n",
       "0                   6               1017                       3   \n",
       "1                  15                 76                       6   \n",
       "2                  12                100                       3   \n",
       "3                   4                154                       0   \n",
       "4                   7                416                       1   \n",
       "\n",
       "   NumberOfBodyStopWords  NumberOfTitleSpecialCharacters  ...     would  \\\n",
       "0                     32                               1  ...  0.000000   \n",
       "1                     37                               2  ...  0.000000   \n",
       "2                     42                               1  ...  0.175528   \n",
       "3                     64                               0  ...  0.000000   \n",
       "4                     60                               0  ...  0.000000   \n",
       "\n",
       "   write  writing  written  wrong  wrote  xml  year  yes  yet  \n",
       "0    0.0      0.0      0.0    0.0    0.0  0.0   0.0  0.0  0.0  \n",
       "1    0.0      0.0      0.0    0.0    0.0  0.0   0.0  0.0  0.0  \n",
       "2    0.0      0.0      0.0    0.0    0.0  0.0   0.0  0.0  0.0  \n",
       "3    0.0      0.0      0.0    0.0    0.0  0.0   0.0  0.0  0.0  \n",
       "4    0.0      0.0      0.0    0.0    0.0  0.0   0.0  0.0  0.0  \n",
       "\n",
       "[5 rows x 2015 columns]"
      ]
     },
     "execution_count": 29,
     "metadata": {},
     "output_type": "execute_result"
    }
   ],
   "source": [
    "# print(processed_test_df.head())\n",
    "# print(x_test_data.head())\n",
    "# print(y_test_data.head())\n",
    "processed_test_df.head()\n"
   ]
  },
  {
   "cell_type": "markdown",
   "id": "e1812be4",
   "metadata": {},
   "source": [
    "### Training loop"
   ]
  },
  {
   "cell_type": "code",
   "execution_count": 59,
   "id": "e63ccfbb",
   "metadata": {},
   "outputs": [
    {
     "name": "stdout",
     "output_type": "stream",
     "text": [
      "Training started... \n",
      "--------------------------------------------------------------------------------\n",
      "training time; start offset; \t accuracy; precision; recall; f1 score\n",
      "00:00:38.65  \t 0         \t\t 0.439 \t 0.898 \t 0.019 \t 0.065\n",
      "\n",
      "Saving model... \n",
      "00:01:17.42  \t 5000      \t\t 0.089 \t 0.912 \t 0.018 \t 0.044\n",
      "00:01:55.61  \t 10000     \t\t 0.231 \t 0.911 \t 0.013 \t 0.034\n",
      "00:02:28.76  \t 15000     \t\t 0.033 \t 0.924 \t 0.012 \t 0.043\n",
      "00:03:06.71  \t 20000     \t\t 0.339 \t 0.932 \t 0.020 \t 0.040\n",
      "00:03:43.91  \t 25000     \t\t 0.468 \t 0.961 \t 0.012 \t 0.022\n",
      "\n",
      "Saving model... \n",
      "00:04:19.60  \t 30000     \t\t 0.098 \t 0.945 \t 0.012 \t 0.037\n",
      "00:04:55.52  \t 35000     \t\t 0.009 \t 0.941 \t 0.013 \t 0.013\n",
      "00:05:33.62  \t 40000     \t\t 0.098 \t 0.965 \t 0.012 \t 0.025\n",
      "00:06:11.06  \t 45000     \t\t 0.077 \t 0.929 \t 0.021 \t 0.046\n",
      "00:06:52.11  \t 50000     \t\t 0.467 \t 0.921 \t 0.032 \t 0.040\n",
      "\n",
      "Saving model... \n",
      "00:07:31.04  \t 55000     \t\t 0.431 \t 0.880 \t 0.034 \t 0.075\n",
      "00:08:10.29  \t 60000     \t\t 0.462 \t 0.936 \t 0.014 \t 0.024\n",
      "00:08:47.12  \t 65000     \t\t 0.189 \t 0.922 \t 0.019 \t 0.033\n",
      "00:09:24.25  \t 70000     \t\t 0.455 \t 0.897 \t 0.013 \t 0.059\n",
      "00:10:01.65  \t 75000     \t\t 0.128 \t 0.921 \t 0.007 \t 0.039\n",
      "\n",
      "Saving model... \n",
      "00:10:41.62  \t 80000     \t\t 0.204 \t 0.915 \t 0.013 \t 0.063\n",
      "00:11:19.35  \t 85000     \t\t 0.159 \t 0.928 \t 0.019 \t 0.027\n",
      "00:12:04.76  \t 90000     \t\t 0.465 \t 0.933 \t 0.013 \t 0.034\n",
      "00:12:42.24  \t 95000     \t\t 0.466 \t 0.917 \t 0.025 \t 0.022\n",
      "00:13:16.01  \t 100000    \t\t 0.304 \t 0.928 \t 0.014 \t 0.030\n",
      "\n",
      "Saving model... \n",
      "00:13:53.57  \t 105000    \t\t 0.444 \t 0.916 \t 0.014 \t 0.053\n",
      "00:14:29.16  \t 110000    \t\t 0.440 \t 0.887 \t 0.016 \t 0.071\n",
      "00:15:04.57  \t 115000    \t\t 0.469 \t 0.921 \t 0.012 \t 0.047\n",
      "00:15:40.47  \t 120000    \t\t 0.408 \t 0.873 \t 0.019 \t 0.082\n",
      "00:16:20.11  \t 125000    \t\t 0.072 \t 0.968 \t 0.013 \t 0.019\n",
      "\n",
      "Saving model... \n",
      "00:16:56.21  \t 130000    \t\t 0.128 \t 0.933 \t 0.013 \t 0.009\n",
      "00:17:32.44  \t 135000    \t\t 0.258 \t 0.916 \t 0.020 \t 0.040\n",
      "00:18:11.84  \t 140000    \t\t 0.439 \t 0.904 \t 0.022 \t 0.041\n",
      "00:18:47.93  \t 145000    \t\t 0.221 \t 0.938 \t 0.018 \t 0.026\n",
      "00:19:27.03  \t 150000    \t\t 0.392 \t 0.928 \t 0.014 \t 0.029\n",
      "\n",
      "Saving model... \n",
      "00:20:05.35  \t 155000    \t\t 0.204 \t 0.947 \t 0.020 \t 0.008\n",
      "00:20:44.97  \t 160000    \t\t 0.421 \t 0.893 \t 0.026 \t 0.058\n",
      "00:21:24.17  \t 165000    \t\t 0.384 \t 0.894 \t 0.025 \t 0.065\n",
      "00:22:00.37  \t 170000    \t\t 0.466 \t 0.898 \t 0.018 \t 0.076\n",
      "00:22:39.94  \t 175000    \t\t 0.196 \t 0.899 \t 0.013 \t 0.046\n",
      "\n",
      "Saving model... \n",
      "00:23:16.97  \t 180000    \t\t 0.234 \t 0.905 \t 0.026 \t 0.039\n",
      "00:23:52.42  \t 185000    \t\t 0.467 \t 0.934 \t 0.016 \t 0.023\n",
      "00:24:26.84  \t 190000    \t\t 0.466 \t 0.929 \t 0.017 \t 0.023\n",
      "00:25:04.69  \t 195000    \t\t 0.006 \t 0.924 \t 0.017 \t 0.036\n",
      "00:25:40.30  \t 200000    \t\t 0.010 \t 0.903 \t 0.013 \t 0.049\n",
      "\n",
      "Saving model... \n",
      "00:26:21.41  \t 205000    \t\t 0.021 \t 0.923 \t 0.019 \t 0.043\n",
      "00:26:55.56  \t 210000    \t\t 0.467 \t 0.950 \t 0.014 \t 0.011\n",
      "00:27:32.55  \t 215000    \t\t 0.223 \t 0.948 \t 0.018 \t 0.038\n",
      "00:28:10.75  \t 220000    \t\t 0.467 \t 0.949 \t 0.017 \t 0.034\n",
      "00:28:46.20  \t 225000    \t\t 0.015 \t 0.920 \t 0.019 \t 0.037\n",
      "\n",
      "Saving model... \n",
      "00:29:20.61  \t 230000    \t\t 0.195 \t 0.900 \t 0.017 \t 0.063\n",
      "00:29:59.91  \t 235000    \t\t 0.305 \t 0.909 \t 0.016 \t 0.047\n",
      "00:30:38.15  \t 240000    \t\t 0.389 \t 0.898 \t 0.013 \t 0.059\n",
      "00:31:20.77  \t 245000    \t\t 0.008 \t 0.903 \t 0.018 \t 0.066\n",
      "00:31:56.69  \t 250000    \t\t 0.127 \t 0.898 \t 0.008 \t 0.057\n",
      "\n",
      "Saving model... \n",
      "\n",
      "Saving model... \n",
      "--------------------------------------------------------------------------------\n",
      "Training ended!\n",
      "Total training time: 00:31:58.46\n",
      "--------------------------------------------------------------------------------\n"
     ]
    },
    {
     "data": {
      "text/plain": [
       "81"
      ]
     },
     "execution_count": 59,
     "metadata": {},
     "output_type": "execute_result"
    }
   ],
   "source": [
    "import sys\n",
    "import pandas as pd\n",
    "from datetime import datetime\n",
    "\n",
    "sys.stdout.write(\"Training started... \\n\")\n",
    "sys.stdout.write(\"-\" * 80 + \"\\n\")\n",
    "\n",
    "# Configure training parameters\n",
    "data_batch_is_not_empty = True\n",
    "bach_size = 5000 # for test 500, for training optimal around 10000 (limit is your RAM)\n",
    "start_offset = 0 # use if strat\n",
    "\n",
    "# list to store training results for each batch\n",
    "training_results_list = []\n",
    "\n",
    "# save start time\n",
    "start_time = datetime.now()\n",
    "\n",
    "# read headers from CSV file\n",
    "headers_list = pd.read_csv(training_data_file, encoding = \"ISO-8859-1\", nrows=0, header=0)\n",
    "\n",
    "# pritnt training parameters to console\n",
    "sys.stdout.write(\"training time; start offset; \\t accuracy; precision; recall; f1 score\\n\")\n",
    "\n",
    "# training loop\n",
    "while data_batch_is_not_empty:\n",
    "    # read data batch\n",
    "    data_batch = pd.read_csv(training_data_file, encoding = \"ISO-8859-1\", skiprows=start_offset+1, nrows=bach_size, header=None, names=list(headers_list.columns))\n",
    "\n",
    "    # check if data batch is empty\n",
    "    if data_batch.empty:\n",
    "        data_batch_is_not_empty = False\n",
    "        break\n",
    "\n",
    "    # while loop emergency break\n",
    "    if start_offset > 1500000: # 1.5M row, data set have 1.2M rows\n",
    "        break\n",
    "    if (datetime.now() - start_time).total_seconds() > (60*60) * 12: # 12 hours\n",
    "        break\n",
    "\n",
    "    # while loop break for testing\n",
    "    if start_offset > 250000: # 250k rows\n",
    "        break\n",
    "    \n",
    "    # prepare data for training\n",
    "    processed_data_batch = prepare_data_for_training(data_batch)\n",
    "    x_data_batch = processed_data_batch.drop('Score', axis=1)\n",
    "    y_data_batch = processed_data_batch['Score']\n",
    "\n",
    "    # train model\n",
    "    model, training_result = training_iteration(model, x_data_batch, y_data_batch, x_test_data, y_test_data)\n",
    "    training_results_list.append(training_result)\n",
    "\n",
    "    # print training results\n",
    "    sys.stdout.write(\"{: <12} \\t {: <9} \\t\\t {:.3f} \\t {:.3f} \\t {:.3f} \\t {:.3f} \\n\".format(get_time_diff(start_time), start_offset, *training_result))\n",
    "\n",
    "    # save model\n",
    "    if start_offset/bach_size % 5 == 0 and start_offset != 0:\n",
    "        sys.stdout.write(\"Saving model... \\n\")\n",
    "        save_model(model, int(start_offset/bach_size))\n",
    "    \n",
    "    # update start offset\n",
    "    start_offset += bach_size\n",
    "\n",
    "\n",
    "sys.stdout.write(\"\\nSaving model... \\n\")\n",
    "save_model(model, 'final')\n",
    "\n",
    "sys.stdout.write(\"-\" * 80 + \"\\n\")\n",
    "sys.stdout.write(\"Training ended!\\n\")\n",
    "sys.stdout.write(\"Total training time: {}\\n\".format(get_time_diff(start_time)))\n",
    "sys.stdout.write(\"-\" * 80 + \"\\n\")\n",
    "\n"
   ]
  },
  {
   "cell_type": "markdown",
   "id": "11a07ac7",
   "metadata": {},
   "source": [
    "### Show results"
   ]
  },
  {
   "cell_type": "code",
   "execution_count": 66,
   "id": "d88539b5",
   "metadata": {},
   "outputs": [
    {
     "name": "stdout",
     "output_type": "stream",
     "text": [
      "index: 1726  \t predicted score: -4    \t actual score: 0    \n",
      "index: 44113 \t predicted score: 21    \t actual score: 2    \n",
      "index: 51207 \t predicted score: 0     \t actual score: 0    \n",
      "index: 23887 \t predicted score: 21    \t actual score: 0    \n",
      "index: 17865 \t predicted score: 21    \t actual score: 0    \n",
      "index: 26390 \t predicted score: 21    \t actual score: 0    \n",
      "index: 6264  \t predicted score: 0     \t actual score: -1   \n",
      "index: 50065 \t predicted score: 21    \t actual score: 0    \n",
      "index: 43495 \t predicted score: 21    \t actual score: -1   \n",
      "index: 44426 \t predicted score: 0     \t actual score: 0    \n",
      "index: 43016 \t predicted score: 21    \t actual score: 1    \n",
      "index: 7487  \t predicted score: 0     \t actual score: 0    \n",
      "index: 1980  \t predicted score: 21    \t actual score: 1    \n",
      "index: 34201 \t predicted score: 0     \t actual score: 0    \n",
      "index: 21332 \t predicted score: 21    \t actual score: 0    \n",
      "index: 31790 \t predicted score: 0     \t actual score: 0    \n",
      "index: 42619 \t predicted score: 17    \t actual score: 3    \n",
      "index: 1208  \t predicted score: 21    \t actual score: 0    \n",
      "index: 50088 \t predicted score: 21    \t actual score: 0    \n",
      "index: 50796 \t predicted score: -4    \t actual score: 0    \n",
      "index: 40898 \t predicted score: 21    \t actual score: 0    \n",
      "index: 8355  \t predicted score: 17    \t actual score: 3    \n",
      "index: 35838 \t predicted score: 21    \t actual score: 0    \n",
      "index: 21710 \t predicted score: 21    \t actual score: 0    \n",
      "index: 28275 \t predicted score: -4    \t actual score: 0    \n"
     ]
    }
   ],
   "source": [
    "import random\n",
    "random.seed(420)\n",
    "\n",
    "import warnings\n",
    "warnings.filterwarnings(\"ignore\", category=UserWarning, module=\"sklearn\")\n",
    "\n",
    "for i in range(0, 25):\n",
    "    index = random.randint(0, len(x_test_data))\n",
    "    predicted_score = model.predict([x_test_data.iloc[index]])[0]\n",
    "    print(\"index: {: <5} \\t predicted score: {: <5} \\t actual score: {: <5}\".format(index, predicted_score, y_test_data.iloc[index]))\n"
   ]
  },
  {
   "cell_type": "markdown",
   "id": "d873ec0d",
   "metadata": {},
   "source": [
    "### Plot training results"
   ]
  },
  {
   "cell_type": "code",
   "execution_count": 60,
   "id": "d3dc93cd",
   "metadata": {},
   "outputs": [
    {
     "data": {
      "image/png": "[encoded data removed]",
      "text/plain": [
       "<Figure size 1600x600 with 1 Axes>"
      ]
     },
     "metadata": {},
     "output_type": "display_data"
    }
   ],
   "source": [
    "import os\n",
    "import matplotlib.pyplot as plt\n",
    "\n",
    "# create data analysis directory\n",
    "data_analysis_path = './data_analysis/'\n",
    "if not os.path.exists(data_analysis_path):\n",
    "    os.makedirs(data_analysis_path)\n",
    "\n",
    "# converting the performance list to a dataframe\n",
    "training_result_df = pd.DataFrame(training_results_list, columns=['Accuracy', 'Precision', 'Recall', 'F1 Score'])\n",
    "\n",
    "# plotting the performance\n",
    "plt.figure(figsize=(16, 6))\n",
    "\n",
    "plt.plot(training_result_df['Accuracy'], label='Accuracy')\n",
    "plt.plot(training_result_df['Precision'], label='Precision')\n",
    "plt.plot(training_result_df['Recall'], label='Recall')\n",
    "plt.plot(training_result_df['F1 Score'], label='F1 Score')\n",
    "\n",
    "plt.xlabel('Training Iteration')\n",
    "plt.ylabel('Accuracy')\n",
    "plt.legend(loc='upper left')\n",
    "\n",
    "plt.tight_layout()\n",
    "plt.grid()\n",
    "\n",
    "plt.xlim(0, len(training_result_df))\n",
    "plt.ylim(0, 1)\n",
    "\n",
    "plt.savefig(data_analysis_path + 'training_iteration_accuracy.png', dpi=300)\n",
    "plt.show()"
   ]
  }
 ],
 "metadata": {
  "kernelspec": {
   "display_name": "Python 3 (ipykernel)",
   "language": "python",
   "name": "python3"
  },
  "language_info": {
   "codemirror_mode": {
    "name": "ipython",
    "version": 3
   },
   "file_extension": ".py",
   "mimetype": "text/x-python",
   "name": "python",
   "nbconvert_exporter": "python",
   "pygments_lexer": "ipython3",
   "version": "3.10.12"
  }
 },
 "nbformat": 4,
 "nbformat_minor": 5
}
